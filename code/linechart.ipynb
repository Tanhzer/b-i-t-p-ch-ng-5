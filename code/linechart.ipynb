{
 "cells": [
  {
   "cell_type": "code",
   "execution_count": 11,
   "metadata": {},
   "outputs": [
    {
     "name": "stdout",
     "output_type": "stream",
     "text": [
      "[]\n"
     ]
    }
   ],
   "source": [
    "import sqlite3\n",
    "\n",
    "# Kết nối đến cơ sở dữ liệu\n",
    "conn = sqlite3.connect('sale.db')\n",
    "cursor = conn.cursor()\n",
    "\n",
    "# Tạo bảng sales nếu chưa tồn tại\n",
    "cursor.execute('''\n",
    "    CREATE TABLE IF NOT EXISTS sales (\n",
    "        year INTEGER,\n",
    "        revenue REAL\n",
    "    )\n",
    "''')\n",
    "\n",
    "# Sau đó, thực hiện truy vấn của bạn\n",
    "cursor.execute(\"SELECT year, revenue FROM sales\")\n",
    "rows = cursor.fetchall()\n",
    "print(rows)\n",
    "\n",
    "# Đóng kết nối\n",
    "conn.close()\n"
   ]
  },
  {
   "cell_type": "code",
   "execution_count": 12,
   "metadata": {},
   "outputs": [
    {
     "ename": "OperationalError",
     "evalue": "no such table: sale",
     "output_type": "error",
     "traceback": [
      "\u001b[1;31m---------------------------------------------------------------------------\u001b[0m",
      "\u001b[1;31mOperationalError\u001b[0m                          Traceback (most recent call last)",
      "Cell \u001b[1;32mIn[12], line 7\u001b[0m\n\u001b[0;32m      5\u001b[0m cursor \u001b[38;5;241m=\u001b[39m conn\u001b[38;5;241m.\u001b[39mcursor()\n\u001b[0;32m      6\u001b[0m \u001b[38;5;66;03m# Truy vấn dữ liệu từ cơ sở dữ liệu\u001b[39;00m\n\u001b[1;32m----> 7\u001b[0m \u001b[43mcursor\u001b[49m\u001b[38;5;241;43m.\u001b[39;49m\u001b[43mexecute\u001b[49m\u001b[43m(\u001b[49m\u001b[38;5;124;43m\"\u001b[39;49m\u001b[38;5;124;43mSELECT year, revenue FROM sale\u001b[39;49m\u001b[38;5;124;43m\"\u001b[39;49m\u001b[43m)\u001b[49m\n\u001b[0;32m      8\u001b[0m rows \u001b[38;5;241m=\u001b[39m cursor\u001b[38;5;241m.\u001b[39mfetchall()\n\u001b[0;32m      9\u001b[0m \u001b[38;5;66;03m# Tách dữ liệu thành hai danh sách riêng biệt cho năm và doanh thu\u001b[39;00m\n",
      "\u001b[1;31mOperationalError\u001b[0m: no such table: sale"
     ]
    }
   ],
   "source": [
    "import sqlite3\n",
    "import matplotlib.pyplot as plt\n",
    "# Kết nối đến cơ sở dữ liệu\n",
    "conn = sqlite3.connect('sales.db')\n",
    "cursor = conn.cursor()\n",
    "# Truy vấn dữ liệu từ cơ sở dữ liệu\n",
    "cursor.execute(\"SELECT year, revenue FROM sale\")\n",
    "rows = cursor.fetchall()\n",
    "# Tách dữ liệu thành hai danh sách riêng biệt cho năm và doanh thu\n",
    "years = [row[0] for row in rows]\n",
    "revenues = [row[1] for row in rows]\n",
    "# Đóng kết nối\n",
    "conn.close()\n",
    "# Vẽ biểu đồ Line Chart\n",
    "plt.plot(years, revenues, marker='o', linestyle='-')\n",
    "plt.xlabel('Các năm')\n",
    "plt.ylabel('Doanh thu (đơn vị: tỷ đồng)')\n",
    "plt.title('Biểu đồ biểu diễn doanh thu theo năm')\n",
    "plt.legend(['Doanh thu theo năm']) # Thêm chú thích vào biểu đồ\n",
    "plt.grid(True) # Thêm lưới trên biểu đồ\n",
    "plt.show()"
   ]
  }
 ],
 "metadata": {
  "kernelspec": {
   "display_name": "Python 3",
   "language": "python",
   "name": "python3"
  },
  "language_info": {
   "codemirror_mode": {
    "name": "ipython",
    "version": 3
   },
   "file_extension": ".py",
   "mimetype": "text/x-python",
   "name": "python",
   "nbconvert_exporter": "python",
   "pygments_lexer": "ipython3",
   "version": "3.12.0"
  }
 },
 "nbformat": 4,
 "nbformat_minor": 2
}
