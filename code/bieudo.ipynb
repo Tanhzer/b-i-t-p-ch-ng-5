{
 "cells": [
  {
   "cell_type": "code",
   "execution_count": 11,
   "metadata": {},
   "outputs": [],
   "source": [
    "import sqlite3\n",
    "import matplotlib.pyplot as plt"
   ]
  },
  {
   "cell_type": "code",
   "execution_count": 12,
   "metadata": {},
   "outputs": [],
   "source": [
    "# Kết nối đến cơ sở dữ liệu\n",
    "conn = sqlite3.connect('mydatabase.db')\n",
    "cursor = conn.cursor()"
   ]
  },
  {
   "cell_type": "code",
   "execution_count": 13,
   "metadata": {},
   "outputs": [],
   "source": [
    "# Truy vấn dữ liệu từ cơ sở dữ liệu\n",
    "cursor.execute('SELECT \"Tên\", \"Tuổi\" FROM users')\n",
    "rows = cursor.fetchall()"
   ]
  },
  {
   "cell_type": "code",
   "execution_count": 14,
   "metadata": {},
   "outputs": [],
   "source": [
    "# Tách dữ liệu thành hai danh sách riêng biệt cho tên và tuổi\n",
    "Tên = [row[0] for row in rows]\n",
    "Tuổi = [row[1] for row in rows]"
   ]
  },
  {
   "cell_type": "code",
   "execution_count": 15,
   "metadata": {},
   "outputs": [
    {
     "name": "stdout",
     "output_type": "stream",
     "text": [
      "(2, 'Nguyễn Văn A', 30)\n",
      "(3, 'Nguyễn Văn A', 30)\n",
      "(4, 'Nguyễn Văn A', 30)\n",
      "(5, 'Nguyễn Văn A', 30)\n",
      "(6, 'Nguyễn Văn A', 30)\n",
      "(7, 'Nguyễn Văn A', 30)\n",
      "(8, 'Nguyễn Văn A', 30)\n",
      "(9, 'Le Tuan A', 20)\n",
      "(10, 'Tran Van B', 24)\n",
      "(11, 'k', 45)\n"
     ]
    }
   ],
   "source": [
    "#In ra các dòng trong bảng sau khi cập nhật\n",
    "cursor = conn.execute(\"SELECT * FROM users\")\n",
    "for row in cursor:\n",
    "    print(row)\n",
    " \n"
   ]
  },
  {
   "cell_type": "code",
   "execution_count": 16,
   "metadata": {},
   "outputs": [],
   "source": [
    "# Đóng kết nối\n",
    "conn.close()"
   ]
  },
  {
   "cell_type": "code",
   "execution_count": 19,
   "metadata": {},
   "outputs": [],
   "source": [
    "#Thêm màu\n",
    "colors = ['blue', 'green', 'red', 'purple', 'orange']"
   ]
  },
  {
   "cell_type": "code",
   "execution_count": 21,
   "metadata": {},
   "outputs": [
    {
     "data": {
      "image/png": "[encoded data removed]",
      "text/plain": [
       "<Figure size 640x480 with 1 Axes>"
      ]
     },
     "metadata": {},
     "output_type": "display_data"
    }
   ],
   "source": [
    "# Vẽ biểu đồ cột\n",
    "plt.bar(Tên, Tuổi, width=0.2, color=colors)\n",
    "plt.xlabel('Tên')\n",
    "plt.ylabel('Tuổi')\n",
    "plt.title('Biểu đồ tuổi của người dùng')\n",
    "plt.show()"
   ]
  },
  {
   "cell_type": "code",
   "execution_count": 18,
   "metadata": {},
   "outputs": [
    {
     "data": {
      "text/plain": [
       "[('Nguyễn Văn A', 30),\n",
       " ('Nguyễn Văn A', 30),\n",
       " ('Nguyễn Văn A', 30),\n",
       " ('Nguyễn Văn A', 30),\n",
       " ('Nguyễn Văn A', 30),\n",
       " ('Nguyễn Văn A', 30),\n",
       " ('Nguyễn Văn A', 30),\n",
       " ('Le Tuan A', 20),\n",
       " ('Tran Van B', 24),\n",
       " ('k', 45)]"
      ]
     },
     "execution_count": 18,
     "metadata": {},
     "output_type": "execute_result"
    }
   ],
   "source": [
    "rows"
   ]
  },
  {
   "cell_type": "code",
   "execution_count": null,
   "metadata": {},
   "outputs": [],
   "source": []
  }
 ],
 "metadata": {
  "kernelspec": {
   "display_name": "Python 3",
   "language": "python",
   "name": "python3"
  },
  "language_info": {
   "codemirror_mode": {
    "name": "ipython",
    "version": 3
   },
   "file_extension": ".py",
   "mimetype": "text/x-python",
   "name": "python",
   "nbconvert_exporter": "python",
   "pygments_lexer": "ipython3",
   "version": "3.12.0"
  }
 },
 "nbformat": 4,
 "nbformat_minor": 2
}
